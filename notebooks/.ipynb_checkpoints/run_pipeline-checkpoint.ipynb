{
 "cells": [
  {
   "cell_type": "code",
   "execution_count": 2,
   "id": "2e93b4a0",
   "metadata": {},
   "outputs": [
    {
     "name": "stderr",
     "output_type": "stream",
     "text": [
      "2025-07-30 19:12:10,370 - src.groq_extractor - INFO - Initialized Groq extractor with model: llama-3.1-8b-instant\n",
      "2025-07-30 19:12:10,371 - src.main_pipeline - INFO - Processing paper1: .data/pdfs/coll-et-al-2011-neo-clerodane-diterpenoids-from-ajuga-bracteosa.pdf\n",
      "2025-07-30 19:12:10,372 - src.main_pipeline - INFO - Extracting text from PDF...\n",
      "2025-07-30 19:12:10,372 - src.pdf_processor - ERROR - Error processing .data/pdfs/coll-et-al-2011-neo-clerodane-diterpenoids-from-ajuga-bracteosa.pdf: [Errno 2] No such file or directory: '.data/pdfs/coll-et-al-2011-neo-clerodane-diterpenoids-from-ajuga-bracteosa.pdf'\n",
      "2025-07-30 19:12:10,373 - src.main_pipeline - ERROR - Failed to extract text from .data/pdfs/coll-et-al-2011-neo-clerodane-diterpenoids-from-ajuga-bracteosa.pdf\n"
     ]
    },
    {
     "name": "stdout",
     "output_type": "stream",
     "text": [
      "Testing on annotated papers...\n",
      "\n",
      "Paper 1 Results:\n",
      "Extracted: 0 compounds\n",
      "Ground truth: 17 compounds\n",
      "First 5 compounds:\n"
     ]
    },
    {
     "ename": "AttributeError",
     "evalue": "'GroundTruthExtractor' object has no attribute 'get_paper_results'",
     "output_type": "error",
     "traceback": [
      "\u001b[31m---------------------------------------------------------------------------\u001b[39m",
      "\u001b[31mAttributeError\u001b[39m                            Traceback (most recent call last)",
      "\u001b[36mCell\u001b[39m\u001b[36m \u001b[39m\u001b[32mIn[2]\u001b[39m\u001b[32m, line 33\u001b[39m\n\u001b[32m     30\u001b[39m     \u001b[38;5;28mprint\u001b[39m(\u001b[33mf\u001b[39m\u001b[33m\"\u001b[39m\u001b[33m  - \u001b[39m\u001b[38;5;132;01m{\u001b[39;00mcomp\u001b[38;5;132;01m}\u001b[39;00m\u001b[33m\"\u001b[39m)\n\u001b[32m     32\u001b[39m \u001b[38;5;66;03m# Get ground truth for comparison\u001b[39;00m\n\u001b[32m---> \u001b[39m\u001b[32m33\u001b[39m gt_paper1 = \u001b[43mpipeline\u001b[49m\u001b[43m.\u001b[49m\u001b[43mgt_extractor\u001b[49m\u001b[43m.\u001b[49m\u001b[43mget_paper_results\u001b[49m(\u001b[33m\"\u001b[39m\u001b[33mpaper1\u001b[39m\u001b[33m\"\u001b[39m)\n\u001b[32m     34\u001b[39m \u001b[38;5;28mprint\u001b[39m(\u001b[33mf\u001b[39m\u001b[33m\"\u001b[39m\u001b[38;5;130;01m\\n\u001b[39;00m\u001b[33mGround truth first 5:\u001b[39m\u001b[33m\"\u001b[39m)\n\u001b[32m     35\u001b[39m \u001b[38;5;28;01mfor\u001b[39;00m comp \u001b[38;5;129;01min\u001b[39;00m gt_paper1.compounds[:\u001b[32m5\u001b[39m]:\n",
      "\u001b[31mAttributeError\u001b[39m: 'GroundTruthExtractor' object has no attribute 'get_paper_results'"
     ]
    }
   ],
   "source": [
    "import sys\n",
    "sys.path.append('..')\n",
    "\n",
    "import logging\n",
    "from src.main_pipeline import CompoundExtractionPipeline\n",
    "\n",
    "# Set up logging\n",
    "logging.basicConfig(\n",
    "    level=logging.INFO,\n",
    "    format='%(asctime)s - %(name)s - %(levelname)s - %(message)s'\n",
    ")\n",
    "\n",
    "# Initialize pipeline\n",
    "pipeline = CompoundExtractionPipeline(model=\"llama-3.1-8b-instant\")\n",
    "\n",
    "# Test on ground truth papers first\n",
    "print(\"Testing on annotated papers...\")\n",
    "\n",
    "# Process paper1\n",
    "paper1_result = pipeline.process_single_pdf(\n",
    "    \"data/pdfs/coll-et-al-2011-neo-clerodane-diterpenoids-from-ajuga-bracteosa.pdf\",  # Use your actual filename\n",
    "    \"paper1\"\n",
    ")\n",
    "\n",
    "print(f\"\\nPaper 1 Results:\")\n",
    "print(f\"Extracted: {len(paper1_result.compounds)} compounds\")\n",
    "print(f\"Ground truth: 17 compounds\")\n",
    "print(f\"First 5 compounds:\")\n",
    "for comp in paper1_result.compounds[:5]:\n",
    "    print(f\"  - {comp}\")\n",
    "\n",
    "# Get ground truth for comparison\n",
    "gt_paper1 = pipeline.gt_extractor.get_paper_results(\"paper1\")\n",
    "print(f\"\\nGround truth first 5:\")\n",
    "for comp in gt_paper1.compounds[:5]:\n",
    "    print(f\"  - {comp}\")"
   ]
  },
  {
   "cell_type": "code",
   "execution_count": null,
   "id": "ddeb273f-f726-4a6a-865d-d458b861b67f",
   "metadata": {},
   "outputs": [],
   "source": []
  }
 ],
 "metadata": {
  "kernelspec": {
   "display_name": "Python 3 (ipykernel)",
   "language": "python",
   "name": "python3"
  },
  "language_info": {
   "codemirror_mode": {
    "name": "ipython",
    "version": 3
   },
   "file_extension": ".py",
   "mimetype": "text/x-python",
   "name": "python",
   "nbconvert_exporter": "python",
   "pygments_lexer": "ipython3",
   "version": "3.11.7"
  }
 },
 "nbformat": 4,
 "nbformat_minor": 5
}
