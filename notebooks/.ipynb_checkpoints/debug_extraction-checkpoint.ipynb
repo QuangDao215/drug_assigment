{
 "cells": [
  {
   "cell_type": "code",
   "execution_count": null,
   "id": "c6219f5a",
   "metadata": {},
   "outputs": [
    {
     "name": "stdout",
     "output_type": "stream",
     "text": [
      "Looking for compound data...\n",
      "✓ Found: Linoleic acid\n",
      "  Context: ...nt quantities or in (PA) is presented in Table 5. Linoleic acid predomi-\n",
      "trace amounts in allinvesti...\n",
      "✗ NOT FOUND: 71.2\n",
      "✗ NOT FOUND: g/kg oil\n",
      "✓ Found: Aronia melanocarpa\n",
      "  Context: ...out in air-dried fruits\n",
      "The fruits of chokeberry (Aronia melanocarpa L, fam, at technical ripeness.\n",
      "...\n"
     ]
    }
   ],
   "source": [
    "import sys\n",
    "sys.path.append('..')\n",
    "\n",
    "from src.pdf_processor import PDFProcessor\n",
    "\n",
    "# In your debug notebook\n",
    "processor = PDFProcessor()\n",
    "text = processor.extract_text(\"../data/pdfs/J Sci Food Agric - 1999 - Zlatanov - Lipid composition of Bulgarian chokeberry  black currant and rose hip seed oils.pdf\")\n",
    "\n",
    "# Find the chunk that mentions Tiscornia\n",
    "if \"tiscornia\" in text.lower():\n",
    "    idx = text.lower().find(\"tiscornia\")\n",
    "    print(\"Tiscornia context:\")\n",
    "    print(text[max(0, idx-300):idx+300])"
   ]
  },
  {
   "cell_type": "code",
   "execution_count": null,
   "id": "7871be80-3bfe-4a54-932b-ba9bcc1523b9",
   "metadata": {},
   "outputs": [],
   "source": []
  }
 ],
 "metadata": {
  "kernelspec": {
   "display_name": "Python 3 (ipykernel)",
   "language": "python",
   "name": "python3"
  },
  "language_info": {
   "codemirror_mode": {
    "name": "ipython",
    "version": 3
   },
   "file_extension": ".py",
   "mimetype": "text/x-python",
   "name": "python",
   "nbconvert_exporter": "python",
   "pygments_lexer": "ipython3",
   "version": "3.11.7"
  }
 },
 "nbformat": 4,
 "nbformat_minor": 5
}
