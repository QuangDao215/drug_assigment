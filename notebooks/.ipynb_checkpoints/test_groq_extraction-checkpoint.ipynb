{
 "cells": [
  {
   "cell_type": "code",
   "execution_count": null,
   "id": "0b2da9e2",
   "metadata": {
    "vscode": {
     "languageId": "plaintext"
    }
   },
   "outputs": [],
   "source": [
    "import sys\n",
    "sys.path.append('..')\n",
    "\n",
    "from src.groq_extractor import GroqExtractor\n",
    "import logging\n",
    "\n",
    "# Set up logging\n",
    "logging.basicConfig(level=logging.INFO, format='%(asctime)s - %(name)s - %(levelname)s - %(message)s')\n",
    "\n",
    "# Test 1: Initialize and test connection\n",
    "print(\"Testing Groq connection...\")\n",
    "extractor = GroqExtractor()\n",
    "\n",
    "if extractor.test_connection():\n",
    "    print(\"✅ Connection successful!\")\n",
    "else:\n",
    "    print(\"❌ Connection failed. Check your API key.\")\n",
    "    exit()\n",
    "\n",
    "# Test 2: Extract from sample text\n",
    "test_text = \"\"\"\n",
    "The aerial parts of Ajuga bracteosa yielded several new compounds. \n",
    "Ajubractin A (4.5 mg) was isolated as a white powder, along with \n",
    "Ajubractin B (2.9 mg) and Ajubractin C (14.7 mg). Additionally, \n",
    "from the seeds of Aronia melanocarpa L, we extracted Linoleic acid \n",
    "(71.2 g/kg oil) and α-Tocopherol (70.6 mg/kg).\n",
    "\"\"\"\n",
    "\n",
    "print(\"\\nTesting extraction on sample text...\")\n",
    "compounds = extractor.extract_from_chunk(test_text)\n",
    "\n",
    "print(f\"\\nExtracted {len(compounds)} compounds:\")\n",
    "for comp in compounds:\n",
    "    print(f\"- {comp['compound_name']} from {comp['species']} ({comp['organism']}): \"\n",
    "          f\"{comp['amount_value']} {comp['amount_unit']}\")"
   ]
  }
 ],
 "metadata": {
  "language_info": {
   "name": "python"
  }
 },
 "nbformat": 4,
 "nbformat_minor": 5
}
