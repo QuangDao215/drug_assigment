{
 "cells": [
  {
   "cell_type": "code",
   "execution_count": 1,
   "id": "c6219f5a",
   "metadata": {},
   "outputs": [
    {
     "name": "stdout",
     "output_type": "stream",
     "text": [
      "Tiscornia context:\n",
      "re):409–410(1997).\n",
      "Plovdiv(Bulg)20(3):231–234(1972). 18Kiosseoglou B and Boskou D, The composition of free and\n",
      "14IvanovS,BitchevaPandKonovaB,DesPhytosterolsdansles esterified sterols in tomato seed oil. Oleagineaux 44(2):113–\n",
      "115(1989).\n",
      "Huiles vegetales et les Concentres steroliques. Rev Fr Corps\n",
      "19TiscorniaE,CamuratF,GastaldoPandPaganoM,Lafrazione\n",
      "Gras19(3):177–180(1972).\n",
      "sterolicadelleoliodipomodoro.RivItalSostGrasse53:119–\n",
      "15IvanovS andAitzetmu¨ller K,Untersuchungen u¨berdieToco-\n",
      "129(1976).\n",
      "pherol- und Tocotrienolzusammensetzung der Sameno¨le\n",
      "20Munchi SK, Sukhija S and Bahatia J, Lipid bios\n"
     ]
    }
   ],
   "source": [
    "import sys\n",
    "sys.path.append('..')\n",
    "\n",
    "from src.pdf_processor import PDFProcessor\n",
    "\n",
    "# In your debug notebook\n",
    "processor = PDFProcessor()\n",
    "text = processor.extract_text(\"../data/pdfs/J Sci Food Agric - 1999 - Zlatanov - Lipid composition of Bulgarian chokeberry  black currant and rose hip seed oils.pdf\")\n",
    "\n",
    "# Find the chunk that mentions Tiscornia\n",
    "if \"tiscornia\" in text.lower():\n",
    "    idx = text.lower().find(\"tiscornia\")\n",
    "    print(\"Tiscornia context:\")\n",
    "    print(text[max(0, idx-300):idx+300])"
   ]
  },
  {
   "cell_type": "code",
   "execution_count": null,
   "id": "7871be80-3bfe-4a54-932b-ba9bcc1523b9",
   "metadata": {},
   "outputs": [],
   "source": []
  }
 ],
 "metadata": {
  "kernelspec": {
   "display_name": "Python 3 (ipykernel)",
   "language": "python",
   "name": "python3"
  },
  "language_info": {
   "codemirror_mode": {
    "name": "ipython",
    "version": 3
   },
   "file_extension": ".py",
   "mimetype": "text/x-python",
   "name": "python",
   "nbconvert_exporter": "python",
   "pygments_lexer": "ipython3",
   "version": "3.11.7"
  }
 },
 "nbformat": 4,
 "nbformat_minor": 5
}
